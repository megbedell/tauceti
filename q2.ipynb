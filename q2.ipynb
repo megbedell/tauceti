{
 "cells": [
  {
   "cell_type": "code",
   "execution_count": 9,
   "id": "b4aa7efa",
   "metadata": {},
   "outputs": [],
   "source": [
    "import numpy as np\n",
    "import matplotlib.pyplot as plt\n",
    "from astropy.table import Table\n",
    "from astropy.io import fits\n",
    "import astropy.units as u\n",
    "import yaml\n",
    "import os\n",
    "from glob import glob"
   ]
  },
  {
   "cell_type": "code",
   "execution_count": 10,
   "id": "ecb7eb29",
   "metadata": {},
   "outputs": [],
   "source": [
    "Q2_DIR = '/Users/mbedell/python/q2/'\n",
    "DATA_DIR = '/Users/mbedell/Documents/Research/tauceti/tauceti_lily/'"
   ]
  },
  {
   "cell_type": "code",
   "execution_count": 11,
   "id": "d9acbd6e",
   "metadata": {},
   "outputs": [],
   "source": [
    "import sys\n",
    "sys.path.append(Q2_DIR)\n",
    "import q2"
   ]
  },
  {
   "cell_type": "code",
   "execution_count": 12,
   "id": "e73adad7",
   "metadata": {},
   "outputs": [],
   "source": [
    "data = q2.Data(DATA_DIR+'stars.csv', DATA_DIR+'lines.csv')"
   ]
  },
  {
   "cell_type": "code",
   "execution_count": 13,
   "id": "b1797789",
   "metadata": {},
   "outputs": [],
   "source": [
    "star = q2.Star('achi131125.1120_cnorm')\n",
    "star.get_data_from(data)"
   ]
  },
  {
   "cell_type": "code",
   "execution_count": 14,
   "id": "74bb1133",
   "metadata": {},
   "outputs": [
    {
     "name": "stdout",
     "output_type": "stream",
     "text": [
      "it Teff logg [Fe/H]  vt           [Fe/H]\n",
      "-- ---- ---- ------ ----      --------------\n"
     ]
    },
    {
     "ename": "FileNotFoundError",
     "evalue": "[Errno 2] No such file or directory: '.q2/moog69517.sum'",
     "output_type": "error",
     "traceback": [
      "\u001b[0;31m---------------------------------------------------------------------------\u001b[0m",
      "\u001b[0;31mFileNotFoundError\u001b[0m                         Traceback (most recent call last)",
      "\u001b[0;32m<ipython-input-14-a22f6e57d429>\u001b[0m in \u001b[0;36m<module>\u001b[0;34m\u001b[0m\n\u001b[1;32m      9\u001b[0m \u001b[0mpp\u001b[0m\u001b[0;34m.\u001b[0m\u001b[0mafe\u001b[0m \u001b[0;34m=\u001b[0m \u001b[0;34m[\u001b[0m\u001b[0;34m-\u001b[0m\u001b[0;36m1000\u001b[0m\u001b[0;34m,\u001b[0m \u001b[0;36m0.25\u001b[0m\u001b[0;34m]\u001b[0m\u001b[0;34m\u001b[0m\u001b[0;34m\u001b[0m\u001b[0m\n\u001b[1;32m     10\u001b[0m \u001b[0;34m\u001b[0m\u001b[0m\n\u001b[0;32m---> 11\u001b[0;31m \u001b[0mq2\u001b[0m\u001b[0;34m.\u001b[0m\u001b[0mspecpars\u001b[0m\u001b[0;34m.\u001b[0m\u001b[0msolve_one\u001b[0m\u001b[0;34m(\u001b[0m\u001b[0mstar\u001b[0m\u001b[0;34m,\u001b[0m \u001b[0msp\u001b[0m\u001b[0;34m,\u001b[0m \u001b[0mPlotPars\u001b[0m\u001b[0;34m=\u001b[0m\u001b[0mpp\u001b[0m\u001b[0;34m)\u001b[0m\u001b[0;34m\u001b[0m\u001b[0;34m\u001b[0m\u001b[0m\n\u001b[0m",
      "\u001b[0;32m~/python/q2/specpars.py\u001b[0m in \u001b[0;36msolve_one\u001b[0;34m(Star, SolveParsInit, Ref, PlotPars)\u001b[0m\n\u001b[1;32m    297\u001b[0m             \u001b[0mplot\u001b[0m \u001b[0;34m=\u001b[0m \u001b[0;32mNone\u001b[0m\u001b[0;34m\u001b[0m\u001b[0;34m\u001b[0m\u001b[0m\n\u001b[1;32m    298\u001b[0m \u001b[0;34m\u001b[0m\u001b[0m\n\u001b[0;32m--> 299\u001b[0;31m         \u001b[0mis_done\u001b[0m \u001b[0;34m=\u001b[0m \u001b[0miron_stats\u001b[0m\u001b[0;34m(\u001b[0m\u001b[0mStar\u001b[0m\u001b[0;34m,\u001b[0m \u001b[0mRef\u001b[0m\u001b[0;34m=\u001b[0m\u001b[0mRef\u001b[0m\u001b[0;34m,\u001b[0m \u001b[0mplot\u001b[0m\u001b[0;34m=\u001b[0m\u001b[0mplot\u001b[0m\u001b[0;34m,\u001b[0m \u001b[0mPlotPars\u001b[0m\u001b[0;34m=\u001b[0m\u001b[0mPlotPars\u001b[0m\u001b[0;34m)\u001b[0m\u001b[0;34m\u001b[0m\u001b[0;34m\u001b[0m\u001b[0m\n\u001b[0m\u001b[1;32m    300\u001b[0m \u001b[0;34m\u001b[0m\u001b[0m\n\u001b[1;32m    301\u001b[0m         print(\"{0:2.0f} {1:4.0f} {2:4.2f} {3:6.3f} {4:4.2f}\"\\\n",
      "\u001b[0;32m~/python/q2/specpars.py\u001b[0m in \u001b[0;36miron_stats\u001b[0;34m(Star, Ref, plot, PlotPars, silent)\u001b[0m\n\u001b[1;32m     50\u001b[0m     \u001b[0mlogger\u001b[0m\u001b[0;34m.\u001b[0m\u001b[0minfo\u001b[0m\u001b[0;34m(\u001b[0m\u001b[0;34m'Begin iron_stats for '\u001b[0m\u001b[0;34m+\u001b[0m\u001b[0mStar\u001b[0m\u001b[0;34m.\u001b[0m\u001b[0mname\u001b[0m\u001b[0;34m)\u001b[0m\u001b[0;34m\u001b[0m\u001b[0;34m\u001b[0m\u001b[0m\n\u001b[1;32m     51\u001b[0m     \u001b[0mlogger\u001b[0m\u001b[0;34m.\u001b[0m\u001b[0minfo\u001b[0m\u001b[0;34m(\u001b[0m\u001b[0;34m'Calculating abundances for '\u001b[0m\u001b[0;34m+\u001b[0m\u001b[0mStar\u001b[0m\u001b[0;34m.\u001b[0m\u001b[0mname\u001b[0m\u001b[0;34m)\u001b[0m\u001b[0;34m\u001b[0m\u001b[0;34m\u001b[0m\u001b[0m\n\u001b[0;32m---> 52\u001b[0;31m     \u001b[0msetattr\u001b[0m\u001b[0;34m(\u001b[0m\u001b[0mStar\u001b[0m\u001b[0;34m,\u001b[0m \u001b[0;34m'fe1'\u001b[0m\u001b[0;34m,\u001b[0m \u001b[0mmoog\u001b[0m\u001b[0;34m.\u001b[0m\u001b[0mabfind\u001b[0m\u001b[0;34m(\u001b[0m\u001b[0mStar\u001b[0m\u001b[0;34m,\u001b[0m \u001b[0;36m26.0\u001b[0m\u001b[0;34m,\u001b[0m \u001b[0;34m'fe1'\u001b[0m\u001b[0;34m)\u001b[0m\u001b[0;34m)\u001b[0m\u001b[0;34m\u001b[0m\u001b[0;34m\u001b[0m\u001b[0m\n\u001b[0m\u001b[1;32m     53\u001b[0m     \u001b[0msetattr\u001b[0m\u001b[0;34m(\u001b[0m\u001b[0mStar\u001b[0m\u001b[0;34m,\u001b[0m \u001b[0;34m'fe2'\u001b[0m\u001b[0;34m,\u001b[0m \u001b[0mmoog\u001b[0m\u001b[0;34m.\u001b[0m\u001b[0mabfind\u001b[0m\u001b[0;34m(\u001b[0m\u001b[0mStar\u001b[0m\u001b[0;34m,\u001b[0m \u001b[0;36m26.1\u001b[0m\u001b[0;34m,\u001b[0m \u001b[0;34m'fe2'\u001b[0m\u001b[0;34m)\u001b[0m\u001b[0;34m)\u001b[0m\u001b[0;34m\u001b[0m\u001b[0;34m\u001b[0m\u001b[0m\n\u001b[1;32m     54\u001b[0m     \u001b[0;32mif\u001b[0m \u001b[0;32mnot\u001b[0m \u001b[0mhasattr\u001b[0m\u001b[0;34m(\u001b[0m\u001b[0mStar\u001b[0m\u001b[0;34m,\u001b[0m \u001b[0;34m'fe1'\u001b[0m\u001b[0;34m)\u001b[0m \u001b[0;32mand\u001b[0m \u001b[0;32mnot\u001b[0m \u001b[0mhasattr\u001b[0m\u001b[0;34m(\u001b[0m\u001b[0mStar\u001b[0m\u001b[0;34m,\u001b[0m \u001b[0;34m'fe2'\u001b[0m\u001b[0;34m)\u001b[0m\u001b[0;34m:\u001b[0m\u001b[0;34m\u001b[0m\u001b[0;34m\u001b[0m\u001b[0m\n",
      "\u001b[0;32m~/python/q2/moog.py\u001b[0m in \u001b[0;36mabfind\u001b[0;34m(Star, species, species_id)\u001b[0m\n\u001b[1;32m    225\u001b[0m     \u001b[0mos\u001b[0m\u001b[0;34m.\u001b[0m\u001b[0msystem\u001b[0m\u001b[0;34m(\u001b[0m\u001b[0;34m'echo '\u001b[0m\u001b[0;34m+\u001b[0m\u001b[0mbatchfile\u001b[0m\u001b[0;34m+\u001b[0m\u001b[0;34m' | MOOGSILENT > '\u001b[0m\u001b[0;34m+\u001b[0m\u001b[0mlogfile\u001b[0m\u001b[0;34m+\u001b[0m\u001b[0;34m' 2>&1'\u001b[0m\u001b[0;34m)\u001b[0m\u001b[0;34m\u001b[0m\u001b[0;34m\u001b[0m\u001b[0m\n\u001b[1;32m    226\u001b[0m \u001b[0;34m\u001b[0m\u001b[0m\n\u001b[0;32m--> 227\u001b[0;31m     \u001b[0mf\u001b[0m \u001b[0;34m=\u001b[0m \u001b[0mopen\u001b[0m\u001b[0;34m(\u001b[0m\u001b[0mMD\u001b[0m\u001b[0;34m.\u001b[0m\u001b[0msummary_out\u001b[0m\u001b[0;34m,\u001b[0m \u001b[0;34m'r'\u001b[0m\u001b[0;34m)\u001b[0m\u001b[0;34m\u001b[0m\u001b[0;34m\u001b[0m\u001b[0m\n\u001b[0m\u001b[1;32m    228\u001b[0m     \u001b[0mline\u001b[0m\u001b[0;34m,\u001b[0m \u001b[0mstop\u001b[0m \u001b[0;34m=\u001b[0m \u001b[0;34m''\u001b[0m\u001b[0;34m,\u001b[0m \u001b[0;32mFalse\u001b[0m\u001b[0;34m\u001b[0m\u001b[0;34m\u001b[0m\u001b[0m\n\u001b[1;32m    229\u001b[0m     \u001b[0;32mwhile\u001b[0m \u001b[0mline\u001b[0m\u001b[0;34m[\u001b[0m\u001b[0;36m0\u001b[0m\u001b[0;34m:\u001b[0m\u001b[0;36m10\u001b[0m\u001b[0;34m]\u001b[0m \u001b[0;34m!=\u001b[0m \u001b[0;34m'wavelength'\u001b[0m\u001b[0;34m:\u001b[0m\u001b[0;34m\u001b[0m\u001b[0;34m\u001b[0m\u001b[0m\n",
      "\u001b[0;31mFileNotFoundError\u001b[0m: [Errno 2] No such file or directory: '.q2/moog69517.sum'"
     ]
    }
   ],
   "source": [
    "sp = q2.specpars.SolvePars()\n",
    "sp.step_teff = 8\n",
    "sp.step_logg = 0.08\n",
    "sp.step_vt = 0.08\n",
    "sp.niter = 35\n",
    "sp.grid = 'marcs'\n",
    "\n",
    "pp = q2.specpars.PlotPars()\n",
    "pp.afe = [-1000, 0.25]\n",
    "\n",
    "q2.specpars.solve_one(star, sp, PlotPars=pp)"
   ]
  },
  {
   "cell_type": "code",
   "execution_count": null,
   "id": "ac920c6d",
   "metadata": {},
   "outputs": [],
   "source": []
  }
 ],
 "metadata": {
  "kernelspec": {
   "display_name": "gr8stars",
   "language": "python",
   "name": "gr8stars"
  },
  "language_info": {
   "codemirror_mode": {
    "name": "ipython",
    "version": 3
   },
   "file_extension": ".py",
   "mimetype": "text/x-python",
   "name": "python",
   "nbconvert_exporter": "python",
   "pygments_lexer": "ipython3",
   "version": "3.7.12"
  }
 },
 "nbformat": 4,
 "nbformat_minor": 5
}
