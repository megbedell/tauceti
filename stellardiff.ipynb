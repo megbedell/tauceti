{
 "cells": [
  {
   "cell_type": "code",
   "execution_count": 1,
   "id": "8de4d11b",
   "metadata": {},
   "outputs": [],
   "source": [
    "import numpy as np\n",
    "import matplotlib.pyplot as plt\n",
    "from astropy.table import Table,Column,join\n",
    "from astropy.io import fits\n",
    "from astropy.constants import c\n",
    "import astropy.units as u\n",
    "import yaml\n",
    "import os\n",
    "from glob import glob\n",
    "from tqdm.notebook import tqdm"
   ]
  },
  {
   "cell_type": "code",
   "execution_count": 2,
   "id": "8d76e7b2",
   "metadata": {},
   "outputs": [],
   "source": [
    "SD_DIR = '/Users/mbedell/python/stellardiff/'\n",
    "DATA_DIR = '/Users/mbedell/Documents/Research/tauceti/tauceti_lily/'"
   ]
  },
  {
   "cell_type": "code",
   "execution_count": 3,
   "id": "a28f46db",
   "metadata": {},
   "outputs": [],
   "source": [
    "import sys\n",
    "sys.path.append(SD_DIR)\n",
    "import stellardiff as sd"
   ]
  },
  {
   "cell_type": "code",
   "execution_count": 4,
   "id": "c92f2c5e",
   "metadata": {},
   "outputs": [],
   "source": [
    "# load in CHIRON-accessible Fe lines only\n",
    "transitions = sd.linelist.LineList.read(SD_DIR+\"sun_linelist.moog\")\n",
    "mask = (transitions['wavelength'] > 4505.) & (transitions['species'] >= 26.0) & (transitions['species'] < 27.0)\n",
    "transitions = transitions[mask]"
   ]
  },
  {
   "cell_type": "code",
   "execution_count": 5,
   "id": "093979ee",
   "metadata": {},
   "outputs": [],
   "source": [
    "# set up profile\n",
    "with open(SD_DIR+\"sun_settings.yaml\", \"r\") as fp:\n",
    "    profile_settings = yaml.load(fp, Loader=yaml.Loader)"
   ]
  },
  {
   "cell_type": "code",
   "execution_count": 6,
   "id": "fc78a86c",
   "metadata": {},
   "outputs": [],
   "source": [
    "# just copying the script here\n",
    "transitions[\"equivalent_width\"] = np.nan * np.ones(len(transitions))\n",
    "transitions[\"equivalent_width_err_pos\"] = np.nan * np.ones(len(transitions))\n",
    "transitions[\"equivalent_width_err_neg\"] = np.nan * np.ones(len(transitions))\n",
    "\n",
    "quality_constraints = dict(\n",
    "  abundance=[-10, 10],\n",
    "  abundance_uncertainty=[0, 1],\n",
    "  equivalent_width=[1, 1000],\n",
    "  equivalent_width_percentage_uncertainty=[0, 25],\n",
    "  equivalent_width_uncertainty=[0, 1000],\n",
    "  reduced_equivalent_width=[-10, -3],\n",
    ")\n",
    "\n",
    "overwrite_kwds = dict()#profile=\"gaussian\")"
   ]
  },
  {
   "cell_type": "raw",
   "id": "13c44e03",
   "metadata": {},
   "source": [
    "# this works for HARPS, but still needs continuum normalization\n",
    "input_spectrum = DATA_DIR+'harps/archive/data/reduced/2014-10-05/s1d_A.fits'\n",
    "star = 's1'\n",
    "spectrum = sd.spectrum.Spectrum1D.read(input_spectrum)"
   ]
  },
  {
   "cell_type": "code",
   "execution_count": 7,
   "id": "e7a70dae",
   "metadata": {},
   "outputs": [],
   "source": [
    "input_spectra_path = glob(DATA_DIR+'achi*.fits')\n",
    "all_stars = []\n",
    "dates = []\n",
    "MAKE_FIGURES = False"
   ]
  },
  {
   "cell_type": "code",
   "execution_count": 8,
   "id": "b11f0fe5",
   "metadata": {
    "collapsed": true,
    "jupyter": {
     "outputs_hidden": true
    }
   },
   "outputs": [
    {
     "data": {
      "application/vnd.jupyter.widget-view+json": {
       "model_id": "a8936b87f1b249bcbaf2f424579f5082",
       "version_major": 2,
       "version_minor": 0
      },
      "text/plain": [
       "  0%|          | 0/11 [00:00<?, ?it/s]"
      ]
     },
     "metadata": {},
     "output_type": "display_data"
    },
    {
     "name": "stderr",
     "output_type": "stream",
     "text": [
      "/Users/mbedell/python/stellardiff/stellardiff/model_spectrum/profile.py:423: RuntimeWarning: covariance is not positive-semidefinite.\n",
      "  p_alt = np.random.multivariate_normal(p_opt, p_cov, size=draws)\n",
      "/Users/mbedell/python/stellardiff/stellardiff/model_spectrum/profile.py:77: RuntimeWarning: invalid value encountered in multiply\n",
      "  + 1j * np.sqrt(np.log(2.0))*shape).real\n",
      "/Users/mbedell/python/stellardiff/stellardiff/model_spectrum/profile.py:443: IntegrationWarning: The occurrence of roundoff error is detected, which prevents \n",
      "  the requested tolerance from being achieved.  The error may be \n",
      "  underestimated.\n",
      "  for _ in p_alt])\n",
      "/Users/mbedell/opt/miniconda3/envs/gr8stars/lib/python3.7/site-packages/scipy/optimize/minpack.py:829: OptimizeWarning: Covariance of the parameters could not be estimated\n",
      "  category=OptimizeWarning)\n",
      "/Users/mbedell/python/stellardiff/stellardiff/model_spectrum/quality_constraints.py:37: RuntimeWarning: All-NaN slice encountered\n",
      "  100 * (np.nanmax(np.abs(_meta(model)[\"equivalent_width\"][1:])) \\\n",
      "Exception raised in fitting atomic transition <stellardiff.model_spectrum.profile.ProfileFittingModel object at 0x7f9cb65be990> on iteration 1\n",
      "Traceback (most recent call last):\n",
      "  File \"/Users/mbedell/python/stellardiff/stellardiff/model_spectrum/profile.py\", line 317, in fit\n",
      "    p0=p0, absolute_sigma=absolute_sigma, maxfev=10000)\n",
      "  File \"/Users/mbedell/opt/miniconda3/envs/gr8stars/lib/python3.7/site-packages/scipy/optimize/minpack.py\", line 789, in curve_fit\n",
      "    raise RuntimeError(\"Optimal parameters not found: \" + errmsg)\n",
      "RuntimeError: Optimal parameters not found: Number of calls to function has reached maxfev = 10000.\n",
      "Exception raised in fitting atomic transition <stellardiff.model_spectrum.profile.ProfileFittingModel object at 0x7f9cb65be990> on iteration 2\n",
      "Traceback (most recent call last):\n",
      "  File \"/Users/mbedell/python/stellardiff/stellardiff/model_spectrum/profile.py\", line 317, in fit\n",
      "    p0=p0, absolute_sigma=absolute_sigma, maxfev=10000)\n",
      "  File \"/Users/mbedell/opt/miniconda3/envs/gr8stars/lib/python3.7/site-packages/scipy/optimize/minpack.py\", line 789, in curve_fit\n",
      "    raise RuntimeError(\"Optimal parameters not found: \" + errmsg)\n",
      "RuntimeError: Optimal parameters not found: Number of calls to function has reached maxfev = 10000.\n",
      "Exception raised in fitting atomic transition <stellardiff.model_spectrum.profile.ProfileFittingModel object at 0x7f9cb65be990> on iteration 3\n",
      "Traceback (most recent call last):\n",
      "  File \"/Users/mbedell/python/stellardiff/stellardiff/model_spectrum/profile.py\", line 317, in fit\n",
      "    p0=p0, absolute_sigma=absolute_sigma, maxfev=10000)\n",
      "  File \"/Users/mbedell/opt/miniconda3/envs/gr8stars/lib/python3.7/site-packages/scipy/optimize/minpack.py\", line 789, in curve_fit\n",
      "    raise RuntimeError(\"Optimal parameters not found: \" + errmsg)\n",
      "RuntimeError: Optimal parameters not found: Number of calls to function has reached maxfev = 10000.\n",
      "Exception raised in fitting atomic transition <stellardiff.model_spectrum.profile.ProfileFittingModel object at 0x7f9cb65be990> on iteration 4\n",
      "Traceback (most recent call last):\n",
      "  File \"/Users/mbedell/python/stellardiff/stellardiff/model_spectrum/profile.py\", line 317, in fit\n",
      "    p0=p0, absolute_sigma=absolute_sigma, maxfev=10000)\n",
      "  File \"/Users/mbedell/opt/miniconda3/envs/gr8stars/lib/python3.7/site-packages/scipy/optimize/minpack.py\", line 789, in curve_fit\n",
      "    raise RuntimeError(\"Optimal parameters not found: \" + errmsg)\n",
      "RuntimeError: Optimal parameters not found: Number of calls to function has reached maxfev = 10000.\n",
      "/Users/mbedell/opt/miniconda3/envs/gr8stars/lib/python3.7/site-packages/numpy/lib/function_base.py:3961: RuntimeWarning: invalid value encountered in subtract\n",
      "  diff_b_a = subtract(b, a)\n",
      "/Users/mbedell/opt/miniconda3/envs/gr8stars/lib/python3.7/site-packages/numpy/lib/function_base.py:3963: RuntimeWarning: invalid value encountered in add\n",
      "  lerp_interpolation = asanyarray(add(a, diff_b_a*t, out=out))\n",
      "/Users/mbedell/opt/miniconda3/envs/gr8stars/lib/python3.7/site-packages/numpy/lib/function_base.py:3964: RuntimeWarning: invalid value encountered in subtract\n",
      "  subtract(b, diff_b_a * (1 - t), out=lerp_interpolation, where=t>=0.5)\n",
      "Exception raised in fitting atomic transition <stellardiff.model_spectrum.profile.ProfileFittingModel object at 0x7f9cb65beb50> on iteration 2\n",
      "Traceback (most recent call last):\n",
      "  File \"/Users/mbedell/python/stellardiff/stellardiff/model_spectrum/profile.py\", line 317, in fit\n",
      "    p0=p0, absolute_sigma=absolute_sigma, maxfev=10000)\n",
      "  File \"/Users/mbedell/opt/miniconda3/envs/gr8stars/lib/python3.7/site-packages/scipy/optimize/minpack.py\", line 784, in curve_fit\n",
      "    res = leastsq(func, p0, Dfun=jac, full_output=1, **kwargs)\n",
      "  File \"/Users/mbedell/opt/miniconda3/envs/gr8stars/lib/python3.7/site-packages/scipy/optimize/minpack.py\", line 414, in leastsq\n",
      "    raise TypeError('Improper input: N=%s must not exceed M=%s' % (n, m))\n",
      "TypeError: Improper input: N=6 must not exceed M=4\n",
      "Exception raised in fitting atomic transition <stellardiff.model_spectrum.profile.ProfileFittingModel object at 0x7f9cb65beb50> on iteration 3\n",
      "Traceback (most recent call last):\n",
      "  File \"/Users/mbedell/python/stellardiff/stellardiff/model_spectrum/profile.py\", line 317, in fit\n",
      "    p0=p0, absolute_sigma=absolute_sigma, maxfev=10000)\n",
      "  File \"/Users/mbedell/opt/miniconda3/envs/gr8stars/lib/python3.7/site-packages/scipy/optimize/minpack.py\", line 784, in curve_fit\n",
      "    res = leastsq(func, p0, Dfun=jac, full_output=1, **kwargs)\n",
      "  File \"/Users/mbedell/opt/miniconda3/envs/gr8stars/lib/python3.7/site-packages/scipy/optimize/minpack.py\", line 414, in leastsq\n",
      "    raise TypeError('Improper input: N=%s must not exceed M=%s' % (n, m))\n",
      "TypeError: Improper input: N=6 must not exceed M=4\n",
      "Exception raised in fitting atomic transition <stellardiff.model_spectrum.profile.ProfileFittingModel object at 0x7f9cb65beb50> on iteration 4\n",
      "Traceback (most recent call last):\n",
      "  File \"/Users/mbedell/python/stellardiff/stellardiff/model_spectrum/profile.py\", line 317, in fit\n",
      "    p0=p0, absolute_sigma=absolute_sigma, maxfev=10000)\n",
      "  File \"/Users/mbedell/opt/miniconda3/envs/gr8stars/lib/python3.7/site-packages/scipy/optimize/minpack.py\", line 784, in curve_fit\n",
      "    res = leastsq(func, p0, Dfun=jac, full_output=1, **kwargs)\n",
      "  File \"/Users/mbedell/opt/miniconda3/envs/gr8stars/lib/python3.7/site-packages/scipy/optimize/minpack.py\", line 414, in leastsq\n",
      "    raise TypeError('Improper input: N=%s must not exceed M=%s' % (n, m))\n",
      "TypeError: Improper input: N=6 must not exceed M=4\n",
      "Exception raised in fitting atomic transition <stellardiff.model_spectrum.profile.ProfileFittingModel object at 0x7f9cb64db150> on iteration 2\n",
      "Traceback (most recent call last):\n",
      "  File \"/Users/mbedell/python/stellardiff/stellardiff/model_spectrum/profile.py\", line 317, in fit\n",
      "    p0=p0, absolute_sigma=absolute_sigma, maxfev=10000)\n",
      "  File \"/Users/mbedell/opt/miniconda3/envs/gr8stars/lib/python3.7/site-packages/scipy/optimize/minpack.py\", line 784, in curve_fit\n",
      "    res = leastsq(func, p0, Dfun=jac, full_output=1, **kwargs)\n",
      "  File \"/Users/mbedell/opt/miniconda3/envs/gr8stars/lib/python3.7/site-packages/scipy/optimize/minpack.py\", line 414, in leastsq\n",
      "    raise TypeError('Improper input: N=%s must not exceed M=%s' % (n, m))\n",
      "TypeError: Improper input: N=6 must not exceed M=5\n",
      "Exception raised in fitting atomic transition <stellardiff.model_spectrum.profile.ProfileFittingModel object at 0x7f9cb64db150> on iteration 3\n",
      "Traceback (most recent call last):\n",
      "  File \"/Users/mbedell/python/stellardiff/stellardiff/model_spectrum/profile.py\", line 317, in fit\n",
      "    p0=p0, absolute_sigma=absolute_sigma, maxfev=10000)\n",
      "  File \"/Users/mbedell/opt/miniconda3/envs/gr8stars/lib/python3.7/site-packages/scipy/optimize/minpack.py\", line 784, in curve_fit\n",
      "    res = leastsq(func, p0, Dfun=jac, full_output=1, **kwargs)\n",
      "  File \"/Users/mbedell/opt/miniconda3/envs/gr8stars/lib/python3.7/site-packages/scipy/optimize/minpack.py\", line 414, in leastsq\n",
      "    raise TypeError('Improper input: N=%s must not exceed M=%s' % (n, m))\n",
      "TypeError: Improper input: N=6 must not exceed M=5\n",
      "Exception raised in fitting atomic transition <stellardiff.model_spectrum.profile.ProfileFittingModel object at 0x7f9cb64db150> on iteration 4\n",
      "Traceback (most recent call last):\n",
      "  File \"/Users/mbedell/python/stellardiff/stellardiff/model_spectrum/profile.py\", line 317, in fit\n",
      "    p0=p0, absolute_sigma=absolute_sigma, maxfev=10000)\n",
      "  File \"/Users/mbedell/opt/miniconda3/envs/gr8stars/lib/python3.7/site-packages/scipy/optimize/minpack.py\", line 784, in curve_fit\n",
      "    res = leastsq(func, p0, Dfun=jac, full_output=1, **kwargs)\n",
      "  File \"/Users/mbedell/opt/miniconda3/envs/gr8stars/lib/python3.7/site-packages/scipy/optimize/minpack.py\", line 414, in leastsq\n",
      "    raise TypeError('Improper input: N=%s must not exceed M=%s' % (n, m))\n",
      "TypeError: Improper input: N=6 must not exceed M=5\n",
      "/Users/mbedell/python/stellardiff/stellardiff/model_spectrum/profile.py:77: RuntimeWarning: overflow encountered in multiply\n",
      "  + 1j * np.sqrt(np.log(2.0))*shape).real\n"
     ]
    }
   ],
   "source": [
    "for input_spectrum in tqdm(input_spectra_path):\n",
    "    star = os.path.basename(input_spectrum).split(\".fits\")[0]\n",
    "    all_stars.append(star)\n",
    "    \n",
    "    # read the spectrum:\n",
    "    # TODO: check whether I need to sort wavelengths\n",
    "    # TODO: switch to a less stupid method of combining orders\n",
    "    with fits.open(input_spectrum) as hdus:\n",
    "        wave = np.copy(hdus[0].data[:,:,0]).ravel()\n",
    "        flux = np.copy(hdus[0].data[:,:,2]).ravel()\n",
    "        ivars = (np.copy(hdus[0].data[:,:,3])**-2).ravel()\n",
    "        rv = np.copy(hdus[0].header['BARYCORR'])\n",
    "        rv += 16600. # systemic velocity ~ -16.6 km/s (SIMBAD)\n",
    "        doppler = np.sqrt((1 + rv/c.value)/(1 - rv/c.value))\n",
    "        wave *= doppler # barycentric correction\n",
    "        try:\n",
    "            date = np.copy(hdus[0].header['DATEOBS'])\n",
    "        except KeyError:\n",
    "            date = np.copy(hdus[0].header['DATE-OBS'])\n",
    "        dates.append(date)\n",
    "    \n",
    "    spectrum = sd.spectrum.Spectrum1D(wave,flux,ivars)\n",
    "    \n",
    "    models = []\n",
    "    indices = []\n",
    "\n",
    "    for i, settings in enumerate(profile_settings):\n",
    "        # Skip bad lines.\n",
    "        if not settings[\"metadata\"][\"is_acceptable\"]:\n",
    "            continue\n",
    "\n",
    "        # Create a transitions mask.\n",
    "        tm = np.in1d(transitions[\"hash\"], settings[\"transition_hashes\"])\n",
    "        if np.all(tm == False): # TODO: check whether this is ok\n",
    "            continue\n",
    "\n",
    "        kwds = settings[\"metadata\"].copy()\n",
    "        kwds.update(overwrite_kwds)\n",
    "        kwds.pop(\"is_acceptable\", None)\n",
    "        \n",
    "        model = sd.model_spectrum.ProfileFittingModel(transitions[tm], **kwds)\n",
    "\n",
    "        try:\n",
    "            result = model.fit(spectrum)\n",
    "\n",
    "        except:\n",
    "            continue\n",
    "\n",
    "        # Only use the line if it meets quality constraints.\n",
    "        if \"fitted_result\" not in model.metadata \\\n",
    "        or not model.meets_quality_constraints(quality_constraints):\n",
    "            continue\n",
    "\n",
    "        # Save the equivalent width.\n",
    "        ew, ew_err_neg, ew_err_pos = model.equivalent_width\n",
    "\n",
    "        transitions[\"equivalent_width\"][tm] = ew.to(10**-3 * u.Angstrom).value\n",
    "        transitions[\"equivalent_width_err_neg\"][tm] = ew_err_neg.to(10**-3 * u.Angstrom).value\n",
    "        transitions[\"equivalent_width_err_pos\"][tm] = ew_err_pos.to(10**-3 * u.Angstrom).value\n",
    "\n",
    "        models.append(model)\n",
    "        indices.append(np.where(tm)[0][0])\n",
    "        \n",
    "        if MAKE_FIGURES:\n",
    "            fig = model.plot(spectrum)\n",
    "            basename = \"{element}-{wavelength:.0f}-{star}.png\".format(\n",
    "                star=star,\n",
    "                element=model.transitions[\"element\"][0].replace(\" \", \"-\"),\n",
    "                wavelength=model.transitions[\"wavelength\"][0])\n",
    "            fig.savefig(DATA_DIR+basename)\n",
    "\n",
    "            plt.close(\"all\")\n",
    "    transitions.write(DATA_DIR+star+'.moog', format=\"moog\")"
   ]
  },
  {
   "cell_type": "code",
   "execution_count": 9,
   "id": "ed51da09",
   "metadata": {},
   "outputs": [],
   "source": [
    "# create the q2 input files:\n",
    "with open(DATA_DIR+'stars.csv', 'w') as f:\n",
    "    f.write('id,teff,logg,feh,vt\\n')\n",
    "    for star in all_stars:\n",
    "        f.write('{0},5310,4.52,-0.52,2.4\\n'.format(star)) # parameters from Costa Silva+2020"
   ]
  },
  {
   "cell_type": "code",
   "execution_count": 10,
   "id": "ab3c8232",
   "metadata": {},
   "outputs": [],
   "source": [
    "data = Table(transitions['wavelength','species','expot','loggf'])\n",
    "data['expot'].name = 'ep'\n",
    "data['loggf'].name = 'gf'\n",
    "for star in all_stars:\n",
    "    ews = transitions.read(DATA_DIR+star+'.moog')\n",
    "    data[star] = ews['equivalent_width']\n",
    "data.write(DATA_DIR+'lines.csv', overwrite=True)"
   ]
  },
  {
   "cell_type": "code",
   "execution_count": null,
   "id": "5f4730c5",
   "metadata": {},
   "outputs": [],
   "source": []
  }
 ],
 "metadata": {
  "kernelspec": {
   "display_name": "gr8stars",
   "language": "python",
   "name": "gr8stars"
  },
  "language_info": {
   "codemirror_mode": {
    "name": "ipython",
    "version": 3
   },
   "file_extension": ".py",
   "mimetype": "text/x-python",
   "name": "python",
   "nbconvert_exporter": "python",
   "pygments_lexer": "ipython3",
   "version": "3.7.12"
  }
 },
 "nbformat": 4,
 "nbformat_minor": 5
}
