{
 "cells": [
  {
   "cell_type": "code",
   "execution_count": 1,
   "id": "ef6426c3",
   "metadata": {},
   "outputs": [],
   "source": [
    "import numpy as np\n",
    "import matplotlib.pyplot as plt\n",
    "from astropy.table import Table,Column,join\n",
    "from astropy.io import fits\n",
    "from astropy.constants import c\n",
    "from astropy.time import Time\n",
    "import astropy.units as u\n",
    "import yaml\n",
    "import os\n",
    "from glob import glob\n",
    "from tqdm.notebook import tqdm"
   ]
  },
  {
   "cell_type": "code",
   "execution_count": 2,
   "id": "e9a9e1a7",
   "metadata": {},
   "outputs": [],
   "source": [
    "SD_DIR = '/Users/mbedell/python/stellardiff/'\n",
    "DATA_DIR = '/Users/mbedell/Documents/Research/tauceti/tauceti_lily/'"
   ]
  },
  {
   "cell_type": "code",
   "execution_count": 3,
   "id": "11a282a5",
   "metadata": {},
   "outputs": [],
   "source": [
    "import sys\n",
    "sys.path.append(SD_DIR)"
   ]
  },
  {
   "cell_type": "code",
   "execution_count": 4,
   "id": "a9d7c340",
   "metadata": {},
   "outputs": [
    {
     "data": {
      "text/plain": [
       "<module 'stellardiff' from '/Users/mbedell/python/stellardiff/stellardiff/__init__.py'>"
      ]
     },
     "execution_count": 4,
     "metadata": {},
     "output_type": "execute_result"
    }
   ],
   "source": [
    "import stellardiff as sd\n",
    "sd"
   ]
  },
  {
   "cell_type": "code",
   "execution_count": 5,
   "id": "753b6fe5",
   "metadata": {},
   "outputs": [],
   "source": [
    "# load in CHIRON-accessible Fe lines only\n",
    "transitions = sd.linelist.LineList.read(SD_DIR+\"sun_linelist.moog\")\n",
    "mask = (transitions['wavelength'] > 4505.) & (transitions['species'] >= 26.0) & (transitions['species'] < 27.0)\n",
    "transitions = transitions[mask]"
   ]
  },
  {
   "cell_type": "code",
   "execution_count": 6,
   "id": "e28d5402",
   "metadata": {},
   "outputs": [],
   "source": [
    "# set up profile\n",
    "with open(SD_DIR+\"sun_settings.yaml\", \"r\") as fp:\n",
    "    profile_settings = yaml.load(fp, Loader=yaml.Loader)"
   ]
  },
  {
   "cell_type": "code",
   "execution_count": 7,
   "id": "ae18f431",
   "metadata": {},
   "outputs": [],
   "source": [
    "# just copying the script here\n",
    "transitions[\"equivalent_width\"] = np.nan * np.ones(len(transitions))\n",
    "transitions[\"equivalent_width_err_pos\"] = np.nan * np.ones(len(transitions))\n",
    "transitions[\"equivalent_width_err_neg\"] = np.nan * np.ones(len(transitions))\n",
    "\n",
    "quality_constraints = dict(\n",
    "  abundance=[-10, 10],\n",
    "  abundance_uncertainty=[0, 1],\n",
    "  equivalent_width=[1, 1000],\n",
    "  equivalent_width_percentage_uncertainty=[0, 25],\n",
    "  equivalent_width_uncertainty=[0, 1000],\n",
    "  reduced_equivalent_width=[-10, -3],\n",
    ")\n",
    "\n",
    "overwrite_kwds = dict()#profile=\"gaussian\")"
   ]
  },
  {
   "cell_type": "raw",
   "id": "a10d5567",
   "metadata": {},
   "source": [
    "# this works for HARPS, but still needs continuum normalization\n",
    "input_spectrum = DATA_DIR+'harps/archive/data/reduced/2014-10-05/s1d_A.fits'\n",
    "star = 's1'\n",
    "spectrum = sd.spectrum.Spectrum1D.read(input_spectrum)"
   ]
  },
  {
   "cell_type": "code",
   "execution_count": 8,
   "id": "da883780",
   "metadata": {},
   "outputs": [],
   "source": [
    "input_spectra_path = glob(DATA_DIR+'achi*.fits')\n",
    "all_stars = []\n",
    "dates = []\n",
    "MAKE_FIGURES = False"
   ]
  },
  {
   "cell_type": "code",
   "execution_count": 9,
   "id": "cd3010fa",
   "metadata": {},
   "outputs": [
    {
     "data": {
      "application/vnd.jupyter.widget-view+json": {
       "model_id": "a6db890b92f1455a9f658d2481a88e59",
       "version_major": 2,
       "version_minor": 0
      },
      "text/plain": [
       "  0%|          | 0/11 [00:00<?, ?it/s]"
      ]
     },
     "metadata": {},
     "output_type": "display_data"
    }
   ],
   "source": [
    "for input_spectrum in tqdm(input_spectra_path):\n",
    "    star = os.path.basename(input_spectrum).split(\".fits\")[0]\n",
    "    all_stars.append(star)\n",
    "    \n",
    "    if True:\n",
    "    \n",
    "        # read the spectrum:\n",
    "        # TODO: check whether I need to sort wavelengths\n",
    "        # TODO: switch to a less stupid method of combining orders\n",
    "        with fits.open(input_spectrum) as hdus:\n",
    "            wave = np.copy(hdus[0].data[:,:,0]).ravel()\n",
    "            flux = np.copy(hdus[0].data[:,:,2]).ravel()\n",
    "            ivars = (np.copy(hdus[0].data[:,:,3])**-2).ravel()\n",
    "            rv = np.copy(hdus[0].header['BARYCORR'])\n",
    "            rv += 16600. # systemic velocity ~ -16.6 km/s (SIMBAD)\n",
    "            doppler = np.sqrt((1 + rv/c.value)/(1 - rv/c.value))\n",
    "            wave *= doppler # barycentric correction\n",
    "            try:\n",
    "                date = Time(hdus[0].header['DATEOBS'])\n",
    "            except KeyError:\n",
    "                date = Time(hdus[0].header['DATE-OBS'])\n",
    "            dates.append(date.jd)\n",
    "\n",
    "        spectrum = sd.spectrum.Spectrum1D(wave,flux,ivars)\n",
    "\n",
    "        models = []\n",
    "        indices = []\n",
    "\n",
    "        for i, settings in enumerate(profile_settings):\n",
    "            # Skip bad lines.\n",
    "            if not settings[\"metadata\"][\"is_acceptable\"]:\n",
    "                continue\n",
    "\n",
    "            # Create a transitions mask.\n",
    "            tm = np.in1d(transitions[\"hash\"], settings[\"transition_hashes\"])\n",
    "            if np.all(tm == False): # TODO: check whether this is ok\n",
    "                continue\n",
    "\n",
    "            kwds = settings[\"metadata\"].copy()\n",
    "            kwds.update(overwrite_kwds)\n",
    "            kwds.pop(\"is_acceptable\", None)\n",
    "\n",
    "            model = sd.model_spectrum.ProfileFittingModel(transitions[tm], **kwds)\n",
    "\n",
    "            try:\n",
    "                result = model.fit(spectrum)\n",
    "\n",
    "            except:\n",
    "                continue\n",
    "\n",
    "            # Only use the line if it meets quality constraints.\n",
    "            if \"fitted_result\" not in model.metadata \\\n",
    "            or not model.meets_quality_constraints(quality_constraints):\n",
    "                continue\n",
    "\n",
    "            # Save the equivalent width.\n",
    "            ew, ew_err_neg, ew_err_pos = model.equivalent_width\n",
    "\n",
    "            transitions[\"equivalent_width\"][tm] = ew.to(10**-3 * u.Angstrom).value\n",
    "            transitions[\"equivalent_width_err_neg\"][tm] = ew_err_neg.to(10**-3 * u.Angstrom).value\n",
    "            transitions[\"equivalent_width_err_pos\"][tm] = ew_err_pos.to(10**-3 * u.Angstrom).value\n",
    "\n",
    "            models.append(model)\n",
    "            indices.append(np.where(tm)[0][0])\n",
    "\n",
    "            if MAKE_FIGURES:\n",
    "                fig = model.plot(spectrum)\n",
    "                basename = \"{element}-{wavelength:.0f}-{star}.png\".format(\n",
    "                    star=star,\n",
    "                    element=model.transitions[\"element\"][0].replace(\" \", \"-\"),\n",
    "                    wavelength=model.transitions[\"wavelength\"][0])\n",
    "                fig.savefig(DATA_DIR+basename)\n",
    "\n",
    "                plt.close(\"all\")\n",
    "        transitions.write(DATA_DIR+star+'.moog', format=\"moog\")\n"
   ]
  },
  {
   "cell_type": "code",
   "execution_count": 10,
   "id": "a3b65359",
   "metadata": {},
   "outputs": [],
   "source": [
    "# create the q2 input files:\n",
    "with open(DATA_DIR+'stars.csv', 'w') as f:\n",
    "    f.write('id,teff,logg,feh,vt\\n')\n",
    "    for star in all_stars:\n",
    "        f.write('{0},5342,4.51,-0.53,0.86\\n'.format(star)) # parameters from Costa Silva+2020"
   ]
  },
  {
   "cell_type": "code",
   "execution_count": null,
   "id": "ab0cd143",
   "metadata": {},
   "outputs": [],
   "source": [
    "data = Table(transitions['wavelength','species','expot','loggf'])\n",
    "data['expot'].name = 'ep'\n",
    "data['loggf'].name = 'gf'\n",
    "for star in all_stars:\n",
    "    ews = transitions.read(DATA_DIR+star+'.moog')\n",
    "    data[star] = ews['equivalent_width']\n",
    "data.write(DATA_DIR+'lines.csv', overwrite=True)"
   ]
  },
  {
   "cell_type": "code",
   "execution_count": null,
   "id": "9cfaba4e",
   "metadata": {},
   "outputs": [],
   "source": [
    "# create the metadata file:\n",
    "with open(DATA_DIR+'metadata.csv', 'w') as f:\n",
    "    f.write('id,date\\n')\n",
    "    for star,date in zip(all_stars,dates):\n",
    "        f.write('{0},{1}\\n'.format(star, date))"
   ]
  },
  {
   "cell_type": "code",
   "execution_count": null,
   "id": "07511160",
   "metadata": {},
   "outputs": [],
   "source": []
  }
 ],
 "metadata": {
  "kernelspec": {
   "display_name": "gr8stars",
   "language": "python",
   "name": "gr8stars"
  },
  "language_info": {
   "codemirror_mode": {
    "name": "ipython",
    "version": 3
   },
   "file_extension": ".py",
   "mimetype": "text/x-python",
   "name": "python",
   "nbconvert_exporter": "python",
   "pygments_lexer": "ipython3",
   "version": "3.7.12"
  }
 },
 "nbformat": 4,
 "nbformat_minor": 5
}
